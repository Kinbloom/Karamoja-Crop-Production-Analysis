{
  "nbformat": 4,
  "nbformat_minor": 0,
  "metadata": {
    "colab": {
      "name": "Karamoja Crop Production (SQL Analysis).ipynb",
      "provenance": [],
      "collapsed_sections": [
        "URGIXK7nSUN7",
        "JT6iiE-4Sjl8",
        "iPUA1r-4S6g2",
        "hXVYQsLlTH3U",
        "zY5zPMJvTlg9"
      ],
      "toc_visible": true
    },
    "kernelspec": {
      "name": "python3",
      "display_name": "Python 3"
    },
    "accelerator": "GPU"
  },
  "cells": [
    {
      "cell_type": "markdown",
      "metadata": {
        "id": "kpX9DD32Qiy-",
        "colab_type": "text"
      },
      "source": [
        "# **Connect to the Database**"
      ]
    },
    {
      "cell_type": "code",
      "metadata": {
        "id": "R2kj3n6UQ_tq",
        "colab_type": "code",
        "outputId": "8f9a15e2-41f6-46f7-895b-17b20a34bb33",
        "colab": {
          "base_uri": "https://localhost:8080/",
          "height": 34
        }
      },
      "source": [
        "# We will first load the sql extension into our environment\n",
        "\n",
        "%load_ext sql\n",
        "\n",
        "# Then connect to our in memory sqlite database\n",
        "# NB: This database will cease to exist as soon as the database connection is closed\n",
        "\n",
        "%sql sqlite://"
      ],
      "execution_count": 0,
      "outputs": [
        {
          "output_type": "execute_result",
          "data": {
            "text/plain": [
              "'Connected: @None'"
            ]
          },
          "metadata": {
            "tags": []
          },
          "execution_count": 2
        }
      ]
    },
    {
      "cell_type": "markdown",
      "metadata": {
        "id": "dEt4rayYRM-G",
        "colab_type": "text"
      },
      "source": [
        "# Import Data From a CSV File"
      ]
    },
    {
      "cell_type": "code",
      "metadata": {
        "id": "z0fpaFvKRXeh",
        "colab_type": "code",
        "colab": {}
      },
      "source": [
        "# Importing the python libraries that we will need in this notebook\n",
        "\n",
        "import csv\n",
        "import pandas as pd"
      ],
      "execution_count": 0,
      "outputs": []
    },
    {
      "cell_type": "code",
      "metadata": {
        "id": "W8MdM3-wRwPp",
        "colab_type": "code",
        "colab": {}
      },
      "source": [
        "# Loading the first table from a local CSV file\n",
        "\n",
        "with open('Uganda_Karamoja_Subcounty_Crop_Yield_Population.csv','r') as f:\n",
        "    Dalberg = pd.read_csv(f, index_col=0, encoding='utf-8') "
      ],
      "execution_count": 0,
      "outputs": []
    },
    {
      "cell_type": "code",
      "metadata": {
        "id": "CQLKgXkLSDTD",
        "colab_type": "code",
        "outputId": "c0271e84-ef89-48d0-b399-d99b39ee9544",
        "colab": {
          "base_uri": "https://localhost:8080/",
          "height": 68
        }
      },
      "source": [
        "# Then storing it in an SQL table of our in memory sqlite database\n",
        "\n",
        "%sql DROP TABLE if EXISTS Dalberg;\n",
        "%sql PERSIST Dalberg;\n",
        "# Loading the first table from a local CSV file\n",
        "\n",
        "with open('Uganda_Karamoja_Subcounty_Crop_Yield_Population.csv','r') as f:\n",
        "    Dalberg = pd.read_csv(f, index_col=0, encoding='utf-8')"
      ],
      "execution_count": 0,
      "outputs": [
        {
          "output_type": "stream",
          "text": [
            " * sqlite://\n",
            "Done.\n",
            " * sqlite://\n"
          ],
          "name": "stdout"
        }
      ]
    },
    {
      "cell_type": "markdown",
      "metadata": {
        "id": "URGIXK7nSUN7",
        "colab_type": "text"
      },
      "source": [
        "#1.Display a list of Sub Counties and their population and areas."
      ]
    },
    {
      "cell_type": "code",
      "metadata": {
        "id": "aR8vSQE8Sc6O",
        "colab_type": "code",
        "outputId": "4792fc22-8d0e-4f7a-a544-85d056aa762b",
        "colab": {
          "base_uri": "https://localhost:8080/",
          "height": 1166
        }
      },
      "source": [
        "# Display a list of Sub Counties and their population and areas.\n",
        "\n",
        "%%sql\n",
        "SELECT SUBCOUNTY_NAME AS 'Sub-County',POP AS 'Population',Area From Dalberg"
      ],
      "execution_count": 0,
      "outputs": [
        {
          "output_type": "stream",
          "text": [
            " * sqlite://\n",
            "Done.\n"
          ],
          "name": "stdout"
        },
        {
          "output_type": "execute_result",
          "data": {
            "text/html": [
              "<table>\n",
              "    <tr>\n",
              "        <th>Sub-County</th>\n",
              "        <th>Population</th>\n",
              "        <th>Area</th>\n",
              "    </tr>\n",
              "    <tr>\n",
              "        <td>KACHERI</td>\n",
              "        <td>17244</td>\n",
              "        <td>1067176155</td>\n",
              "    </tr>\n",
              "    <tr>\n",
              "        <td>KOTIDO</td>\n",
              "        <td>52771</td>\n",
              "        <td>597575188</td>\n",
              "    </tr>\n",
              "    <tr>\n",
              "        <td>KOTIDO TOWN COUNCIL</td>\n",
              "        <td>27389</td>\n",
              "        <td>23972401</td>\n",
              "    </tr>\n",
              "    <tr>\n",
              "        <td>NAKAPERIMORU</td>\n",
              "        <td>38775</td>\n",
              "        <td>419111591</td>\n",
              "    </tr>\n",
              "    <tr>\n",
              "        <td>PANYANGARA</td>\n",
              "        <td>65704</td>\n",
              "        <td>880955930</td>\n",
              "    </tr>\n",
              "    <tr>\n",
              "        <td>RENGEN</td>\n",
              "        <td>41273</td>\n",
              "        <td>652744859</td>\n",
              "    </tr>\n",
              "    <tr>\n",
              "        <td>KAABONG  EAST</td>\n",
              "        <td>42221</td>\n",
              "        <td>60801942</td>\n",
              "    </tr>\n",
              "    <tr>\n",
              "        <td>KAABONG TOWN COUNCIL</td>\n",
              "        <td>38857</td>\n",
              "        <td>13071455</td>\n",
              "    </tr>\n",
              "    <tr>\n",
              "        <td>KAABONG WEST</td>\n",
              "        <td>41454</td>\n",
              "        <td>67612362</td>\n",
              "    </tr>\n",
              "    <tr>\n",
              "        <td>KALAPATA</td>\n",
              "        <td>99203</td>\n",
              "        <td>223116860</td>\n",
              "    </tr>\n",
              "    <tr>\n",
              "        <td>KAMION</td>\n",
              "        <td>60070</td>\n",
              "        <td>1199409465</td>\n",
              "    </tr>\n",
              "    <tr>\n",
              "        <td>KAPEDO</td>\n",
              "        <td>33951</td>\n",
              "        <td>304557831</td>\n",
              "    </tr>\n",
              "    <tr>\n",
              "        <td>KATHILE</td>\n",
              "        <td>56870</td>\n",
              "        <td>228457417</td>\n",
              "    </tr>\n",
              "    <tr>\n",
              "        <td>KAWALAKOL</td>\n",
              "        <td>37691</td>\n",
              "        <td>1742041261</td>\n",
              "    </tr>\n",
              "    <tr>\n",
              "        <td>LOBALANGIT</td>\n",
              "        <td>22907</td>\n",
              "        <td>302572789</td>\n",
              "    </tr>\n",
              "    <tr>\n",
              "        <td>LODIKO</td>\n",
              "        <td>31820</td>\n",
              "        <td>397700845</td>\n",
              "    </tr>\n",
              "    <tr>\n",
              "        <td>LOLELIA</td>\n",
              "        <td>100919</td>\n",
              "        <td>1069331387</td>\n",
              "    </tr>\n",
              "    <tr>\n",
              "        <td>LOYORO</td>\n",
              "        <td>16608</td>\n",
              "        <td>1330019236</td>\n",
              "    </tr>\n",
              "    <tr>\n",
              "        <td>NAPORE (KARENGA)</td>\n",
              "        <td>20394</td>\n",
              "        <td>309577387</td>\n",
              "    </tr>\n",
              "    <tr>\n",
              "        <td>SIDOK</td>\n",
              "        <td>24092</td>\n",
              "        <td>125330583</td>\n",
              "    </tr>\n",
              "    <tr>\n",
              "        <td>ABIM</td>\n",
              "        <td>14377</td>\n",
              "        <td>188613057</td>\n",
              "    </tr>\n",
              "    <tr>\n",
              "        <td>ABIM TOWN COUNCIL</td>\n",
              "        <td>11489</td>\n",
              "        <td>115941152</td>\n",
              "    </tr>\n",
              "    <tr>\n",
              "        <td>ALEREK</td>\n",
              "        <td>12573</td>\n",
              "        <td>1255760525</td>\n",
              "    </tr>\n",
              "    <tr>\n",
              "        <td>LOTUKEI</td>\n",
              "        <td>18641</td>\n",
              "        <td>191684465</td>\n",
              "    </tr>\n",
              "    <tr>\n",
              "        <td>MORULEM</td>\n",
              "        <td>16834</td>\n",
              "        <td>250364895</td>\n",
              "    </tr>\n",
              "    <tr>\n",
              "        <td>KARITA</td>\n",
              "        <td>45015</td>\n",
              "        <td>658008801</td>\n",
              "    </tr>\n",
              "    <tr>\n",
              "        <td>LOROO</td>\n",
              "        <td>22541</td>\n",
              "        <td>371970302</td>\n",
              "    </tr>\n",
              "    <tr>\n",
              "        <td>AMUDAT</td>\n",
              "        <td>30181</td>\n",
              "        <td>596393139</td>\n",
              "    </tr>\n",
              "    <tr>\n",
              "        <td>AMUDAT TOWN COUNCIL</td>\n",
              "        <td>4053</td>\n",
              "        <td>17207110</td>\n",
              "    </tr>\n",
              "    <tr>\n",
              "        <td>KATIKEKILE</td>\n",
              "        <td>11772</td>\n",
              "        <td>277451997</td>\n",
              "    </tr>\n",
              "    <tr>\n",
              "        <td>NADUNGET</td>\n",
              "        <td>42115</td>\n",
              "        <td>596023780</td>\n",
              "    </tr>\n",
              "    <tr>\n",
              "        <td>TAPAC</td>\n",
              "        <td>21999</td>\n",
              "        <td>622266516</td>\n",
              "    </tr>\n",
              "    <tr>\n",
              "        <td>NORTHERN DIVISION</td>\n",
              "        <td>7161</td>\n",
              "        <td>2738777</td>\n",
              "    </tr>\n",
              "    <tr>\n",
              "        <td>SOUTHERN DIVISION</td>\n",
              "        <td>3272</td>\n",
              "        <td>2121209</td>\n",
              "    </tr>\n",
              "    <tr>\n",
              "        <td>LOREGAE</td>\n",
              "        <td>26644</td>\n",
              "        <td>928683431</td>\n",
              "    </tr>\n",
              "    <tr>\n",
              "        <td>NAKAPIRIPIRIT TOWN COUNCIL</td>\n",
              "        <td>1418</td>\n",
              "        <td>4673094</td>\n",
              "    </tr>\n",
              "    <tr>\n",
              "        <td>NAMALU</td>\n",
              "        <td>25905</td>\n",
              "        <td>553067364</td>\n",
              "    </tr>\n",
              "    <tr>\n",
              "        <td>KAKOMONGOLE</td>\n",
              "        <td>15960</td>\n",
              "        <td>312709097</td>\n",
              "    </tr>\n",
              "    <tr>\n",
              "        <td>LOLACHAT</td>\n",
              "        <td>22801</td>\n",
              "        <td>642401705</td>\n",
              "    </tr>\n",
              "    <tr>\n",
              "        <td>LORENGEDWAT</td>\n",
              "        <td>9929</td>\n",
              "        <td>435714604</td>\n",
              "    </tr>\n",
              "    <tr>\n",
              "        <td>NABILATUK</td>\n",
              "        <td>27534</td>\n",
              "        <td>499776866</td>\n",
              "    </tr>\n",
              "    <tr>\n",
              "        <td>IRIIRI</td>\n",
              "        <td>46979</td>\n",
              "        <td>1030623258</td>\n",
              "    </tr>\n",
              "    <tr>\n",
              "        <td>LOPEEI</td>\n",
              "        <td>18815</td>\n",
              "        <td>790782350</td>\n",
              "    </tr>\n",
              "    <tr>\n",
              "        <td>LORENGECORA</td>\n",
              "        <td>2503</td>\n",
              "        <td>118997955</td>\n",
              "    </tr>\n",
              "    <tr>\n",
              "        <td>LOTOME</td>\n",
              "        <td>17834</td>\n",
              "        <td>125857565</td>\n",
              "    </tr>\n",
              "    <tr>\n",
              "        <td>MATANY</td>\n",
              "        <td>29495</td>\n",
              "        <td>338252511</td>\n",
              "    </tr>\n",
              "    <tr>\n",
              "        <td>NAPAK TOWN COUNCIL</td>\n",
              "        <td>8010</td>\n",
              "        <td>150906375</td>\n",
              "    </tr>\n",
              "    <tr>\n",
              "        <td>NGOLERIET</td>\n",
              "        <td>20790</td>\n",
              "        <td>158887552</td>\n",
              "    </tr>\n",
              "    <tr>\n",
              "        <td>NYAKWAE</td>\n",
              "        <td>16470</td>\n",
              "        <td>769609687</td>\n",
              "    </tr>\n",
              "    <tr>\n",
              "        <td>LOKOPO</td>\n",
              "        <td>23200</td>\n",
              "        <td>1794470536</td>\n",
              "    </tr>\n",
              "    <tr>\n",
              "        <td>RUPA</td>\n",
              "        <td>41493</td>\n",
              "        <td>2069554899</td>\n",
              "    </tr>\n",
              "    <tr>\n",
              "        <td>MORUITA</td>\n",
              "        <td>16588</td>\n",
              "        <td>839293722</td>\n",
              "    </tr>\n",
              "</table>"
            ],
            "text/plain": [
              "[('KACHERI', 17244, 1067176155),\n",
              " ('KOTIDO', 52771, 597575188),\n",
              " ('KOTIDO TOWN COUNCIL', 27389, 23972401),\n",
              " ('NAKAPERIMORU', 38775, 419111591),\n",
              " ('PANYANGARA', 65704, 880955930),\n",
              " ('RENGEN', 41273, 652744859),\n",
              " ('KAABONG  EAST', 42221, 60801942),\n",
              " ('KAABONG TOWN COUNCIL', 38857, 13071455),\n",
              " ('KAABONG WEST', 41454, 67612362),\n",
              " ('KALAPATA', 99203, 223116860),\n",
              " ('KAMION', 60070, 1199409465),\n",
              " ('KAPEDO', 33951, 304557831),\n",
              " ('KATHILE', 56870, 228457417),\n",
              " ('KAWALAKOL', 37691, 1742041261),\n",
              " ('LOBALANGIT', 22907, 302572789),\n",
              " ('LODIKO', 31820, 397700845),\n",
              " ('LOLELIA', 100919, 1069331387),\n",
              " ('LOYORO', 16608, 1330019236),\n",
              " ('NAPORE (KARENGA)', 20394, 309577387),\n",
              " ('SIDOK', 24092, 125330583),\n",
              " ('ABIM', 14377, 188613057),\n",
              " ('ABIM TOWN COUNCIL', 11489, 115941152),\n",
              " ('ALEREK', 12573, 1255760525),\n",
              " ('LOTUKEI', 18641, 191684465),\n",
              " ('MORULEM', 16834, 250364895),\n",
              " ('KARITA', 45015, 658008801),\n",
              " ('LOROO', 22541, 371970302),\n",
              " ('AMUDAT', 30181, 596393139),\n",
              " ('AMUDAT TOWN COUNCIL', 4053, 17207110),\n",
              " ('KATIKEKILE', 11772, 277451997),\n",
              " ('NADUNGET', 42115, 596023780),\n",
              " ('TAPAC', 21999, 622266516),\n",
              " ('NORTHERN DIVISION', 7161, 2738777),\n",
              " ('SOUTHERN DIVISION', 3272, 2121209),\n",
              " ('LOREGAE', 26644, 928683431),\n",
              " ('NAKAPIRIPIRIT TOWN COUNCIL', 1418, 4673094),\n",
              " ('NAMALU', 25905, 553067364),\n",
              " ('KAKOMONGOLE', 15960, 312709097),\n",
              " ('LOLACHAT', 22801, 642401705),\n",
              " ('LORENGEDWAT', 9929, 435714604),\n",
              " ('NABILATUK', 27534, 499776866),\n",
              " ('IRIIRI', 46979, 1030623258),\n",
              " ('LOPEEI', 18815, 790782350),\n",
              " ('LORENGECORA', 2503, 118997955),\n",
              " ('LOTOME', 17834, 125857565),\n",
              " ('MATANY', 29495, 338252511),\n",
              " ('NAPAK TOWN COUNCIL', 8010, 150906375),\n",
              " ('NGOLERIET', 20790, 158887552),\n",
              " ('NYAKWAE', 16470, 769609687),\n",
              " ('LOKOPO', 23200, 1794470536),\n",
              " ('RUPA', 41493, 2069554899),\n",
              " ('MORUITA', 16588, 839293722)]"
            ]
          },
          "metadata": {
            "tags": []
          },
          "execution_count": 11
        }
      ]
    },
    {
      "cell_type": "markdown",
      "metadata": {
        "id": "JT6iiE-4Sjl8",
        "colab_type": "text"
      },
      "source": [
        "# 2.Sort the list of districts by total crop area (descending order)."
      ]
    },
    {
      "cell_type": "code",
      "metadata": {
        "id": "Esa7VwenSzTg",
        "colab_type": "code",
        "outputId": "ecdd51d9-fb97-4616-95d2-86577d56ba7c",
        "colab": {
          "base_uri": "https://localhost:8080/",
          "height": 221
        }
      },
      "source": [
        "# Sort the list of districts by total crop area (descending order).\n",
        "%%sql\n",
        "SELECT DISTRICT_NAME AS 'District Name', SUM(Crop_Area_Ha) AS 'Total Crop Area' From Dalberg\n",
        "GROUP BY DISTRICT_NAME\n",
        "ORDER BY SUM(Crop_Area_Ha) DESC;\n"
      ],
      "execution_count": 0,
      "outputs": [
        {
          "output_type": "stream",
          "text": [
            " * sqlite://\n",
            "Done.\n"
          ],
          "name": "stdout"
        },
        {
          "output_type": "execute_result",
          "data": {
            "text/html": [
              "<table>\n",
              "    <tr>\n",
              "        <th>District Name</th>\n",
              "        <th>Total Crop Area</th>\n",
              "    </tr>\n",
              "    <tr>\n",
              "        <td>KOTIDO</td>\n",
              "        <td>53032.64946</td>\n",
              "    </tr>\n",
              "    <tr>\n",
              "        <td>KAABONG</td>\n",
              "        <td>28121.672534300003</td>\n",
              "    </tr>\n",
              "    <tr>\n",
              "        <td>NAKAPIRIPIRIT</td>\n",
              "        <td>26372.698485360004</td>\n",
              "    </tr>\n",
              "    <tr>\n",
              "        <td>NAPAK</td>\n",
              "        <td>22944.296022100003</td>\n",
              "    </tr>\n",
              "    <tr>\n",
              "        <td>MOROTO</td>\n",
              "        <td>5954.814048168</td>\n",
              "    </tr>\n",
              "    <tr>\n",
              "        <td>AMUDAT</td>\n",
              "        <td>5765.443717519999</td>\n",
              "    </tr>\n",
              "    <tr>\n",
              "        <td>ABIM</td>\n",
              "        <td>5470.0683942000005</td>\n",
              "    </tr>\n",
              "</table>"
            ],
            "text/plain": [
              "[('KOTIDO', 53032.64946),\n",
              " ('KAABONG', 28121.672534300003),\n",
              " ('NAKAPIRIPIRIT', 26372.698485360004),\n",
              " ('NAPAK', 22944.296022100003),\n",
              " ('MOROTO', 5954.814048168),\n",
              " ('AMUDAT', 5765.443717519999),\n",
              " ('ABIM', 5470.0683942000005)]"
            ]
          },
          "metadata": {
            "tags": []
          },
          "execution_count": 12
        }
      ]
    },
    {
      "cell_type": "markdown",
      "metadata": {
        "id": "iPUA1r-4S6g2",
        "colab_type": "text"
      },
      "source": [
        "# 3.Select only the Sub counties from the Moroto district, order them alphabetically and show their production of sorghum."
      ]
    },
    {
      "cell_type": "code",
      "metadata": {
        "id": "d5czfDVsTCVv",
        "colab_type": "code",
        "outputId": "0117f0e6-2ca1-4913-a5c6-ddeb7bb5abfb",
        "colab": {
          "base_uri": "https://localhost:8080/",
          "height": 200
        }
      },
      "source": [
        "# Select only the Sub counties from the Moroto district, order them alphabetically and show their production of sorghum.\n",
        "  %%sql\n",
        "  SELECT DISTRICT_NAME AS 'District',SUBCOUNTY_NAME AS 'Sub-County Name',S_Prod_Tot AS 'Sorghum Production' From Dalberg\n",
        "  WHERE DISTRICT_NAME = 'MOROTO'\n",
        "  ORDER BY SUBCOUNTY_NAME ASC;"
      ],
      "execution_count": 0,
      "outputs": [
        {
          "output_type": "stream",
          "text": [
            " * sqlite://\n",
            "Done.\n"
          ],
          "name": "stdout"
        },
        {
          "output_type": "execute_result",
          "data": {
            "text/html": [
              "<table>\n",
              "    <tr>\n",
              "        <th>District</th>\n",
              "        <th>Sub-County Name</th>\n",
              "        <th>Sorghum Production</th>\n",
              "    </tr>\n",
              "    <tr>\n",
              "        <td>MOROTO</td>\n",
              "        <td>KATIKEKILE</td>\n",
              "        <td>9379.029413</td>\n",
              "    </tr>\n",
              "    <tr>\n",
              "        <td>MOROTO</td>\n",
              "        <td>NADUNGET</td>\n",
              "        <td>321630.539</td>\n",
              "    </tr>\n",
              "    <tr>\n",
              "        <td>MOROTO</td>\n",
              "        <td>NORTHERN DIVISION</td>\n",
              "        <td>17.28125956</td>\n",
              "    </tr>\n",
              "    <tr>\n",
              "        <td>MOROTO</td>\n",
              "        <td>RUPA</td>\n",
              "        <td>227298.5184</td>\n",
              "    </tr>\n",
              "    <tr>\n",
              "        <td>MOROTO</td>\n",
              "        <td>SOUTHERN DIVISION</td>\n",
              "        <td>19.67486547</td>\n",
              "    </tr>\n",
              "    <tr>\n",
              "        <td>MOROTO</td>\n",
              "        <td>TAPAC</td>\n",
              "        <td>49251.66081</td>\n",
              "    </tr>\n",
              "</table>"
            ],
            "text/plain": [
              "[('MOROTO', 'KATIKEKILE', 9379.029413),\n",
              " ('MOROTO', 'NADUNGET', 321630.539),\n",
              " ('MOROTO', 'NORTHERN DIVISION', 17.28125956),\n",
              " ('MOROTO', 'RUPA', 227298.5184),\n",
              " ('MOROTO', 'SOUTHERN DIVISION', 19.67486547),\n",
              " ('MOROTO', 'TAPAC', 49251.66081)]"
            ]
          },
          "metadata": {
            "tags": []
          },
          "execution_count": 13
        }
      ]
    },
    {
      "cell_type": "markdown",
      "metadata": {
        "id": "hXVYQsLlTH3U",
        "colab_type": "text"
      },
      "source": [
        "#4.Compute the total Maize production per District."
      ]
    },
    {
      "cell_type": "code",
      "metadata": {
        "id": "79VzVW0nTOhj",
        "colab_type": "code",
        "outputId": "e1d5d9f5-ed52-4bc2-b7a2-a2548c692cd0",
        "colab": {
          "base_uri": "https://localhost:8080/",
          "height": 221
        }
      },
      "source": [
        "# Compute the total Maize production per District.\n",
        "%%sql\n",
        "SELECT DISTRICT_NAME AS 'District',SUM(M_Prod_Tot) AS 'Total maize production' From Dalberg\n",
        "GROUP BY DISTRICT_NAME\n"
      ],
      "execution_count": 0,
      "outputs": [
        {
          "output_type": "stream",
          "text": [
            " * sqlite://\n",
            "Done.\n"
          ],
          "name": "stdout"
        },
        {
          "output_type": "execute_result",
          "data": {
            "text/html": [
              "<table>\n",
              "    <tr>\n",
              "        <th>District</th>\n",
              "        <th>Total maize production</th>\n",
              "    </tr>\n",
              "    <tr>\n",
              "        <td>ABIM</td>\n",
              "        <td>1922133.1297</td>\n",
              "    </tr>\n",
              "    <tr>\n",
              "        <td>AMUDAT</td>\n",
              "        <td>3546469.3324990002</td>\n",
              "    </tr>\n",
              "    <tr>\n",
              "        <td>KAABONG</td>\n",
              "        <td>6990361.6143000005</td>\n",
              "    </tr>\n",
              "    <tr>\n",
              "        <td>KOTIDO</td>\n",
              "        <td>2010179.0731479998</td>\n",
              "    </tr>\n",
              "    <tr>\n",
              "        <td>MOROTO</td>\n",
              "        <td>422116.06882464996</td>\n",
              "    </tr>\n",
              "    <tr>\n",
              "        <td>NAKAPIRIPIRIT</td>\n",
              "        <td>8125156.24546</td>\n",
              "    </tr>\n",
              "    <tr>\n",
              "        <td>NAPAK</td>\n",
              "        <td>5587379.38888</td>\n",
              "    </tr>\n",
              "</table>"
            ],
            "text/plain": [
              "[('ABIM', 1922133.1297),\n",
              " ('AMUDAT', 3546469.3324990002),\n",
              " ('KAABONG', 6990361.6143000005),\n",
              " ('KOTIDO', 2010179.0731479998),\n",
              " ('MOROTO', 422116.06882464996),\n",
              " ('NAKAPIRIPIRIT', 8125156.24546),\n",
              " ('NAPAK', 5587379.38888)]"
            ]
          },
          "metadata": {
            "tags": []
          },
          "execution_count": 14
        }
      ]
    },
    {
      "cell_type": "markdown",
      "metadata": {
        "id": "fw3X7A6TTT64",
        "colab_type": "text"
      },
      "source": [
        "#5.Compute the number of Sub counties where Maize is produced and the total Maize production per District."
      ]
    },
    {
      "cell_type": "code",
      "metadata": {
        "id": "ZYFNKdF6TZRX",
        "colab_type": "code",
        "outputId": "c2b7abba-52ed-47ea-b0a0-56406bda7267",
        "colab": {
          "base_uri": "https://localhost:8080/",
          "height": 95
        }
      },
      "source": [
        "# Compute the number of Sub counties where Maize is produced \n",
        "%%sql\n",
        "SELECT COUNT(SUBCOUNTY_NAME) AS 'Sub-counties with maize production' From Dalberg\n",
        "WHERE M_Prod_Tot > 0\n",
        " \n"
      ],
      "execution_count": 0,
      "outputs": [
        {
          "output_type": "stream",
          "text": [
            " * sqlite://\n",
            "Done.\n"
          ],
          "name": "stdout"
        },
        {
          "output_type": "execute_result",
          "data": {
            "text/html": [
              "<table>\n",
              "    <tr>\n",
              "        <th>Sub-counties with maize production</th>\n",
              "    </tr>\n",
              "    <tr>\n",
              "        <td>51</td>\n",
              "    </tr>\n",
              "</table>"
            ],
            "text/plain": [
              "[(51,)]"
            ]
          },
          "metadata": {
            "tags": []
          },
          "execution_count": 8
        }
      ]
    },
    {
      "cell_type": "code",
      "metadata": {
        "id": "xsHlFqJJTgZA",
        "colab_type": "code",
        "outputId": "afd81b1f-c3f3-470f-aa71-9bb3da183025",
        "colab": {
          "base_uri": "https://localhost:8080/",
          "height": 221
        }
      },
      "source": [
        "# Total maize production per district\n",
        "%%sql\n",
        "SELECT DISTRICT_NAME AS 'District',SUM(M_Prod_Tot) AS 'Total maize production per district' From Dalberg\n",
        "GROUP BY DISTRICT_NAME"
      ],
      "execution_count": 0,
      "outputs": [
        {
          "output_type": "stream",
          "text": [
            " * sqlite://\n",
            "Done.\n"
          ],
          "name": "stdout"
        },
        {
          "output_type": "execute_result",
          "data": {
            "text/html": [
              "<table>\n",
              "    <tr>\n",
              "        <th>District</th>\n",
              "        <th>Total maize production per district</th>\n",
              "    </tr>\n",
              "    <tr>\n",
              "        <td>ABIM</td>\n",
              "        <td>1922133.1297</td>\n",
              "    </tr>\n",
              "    <tr>\n",
              "        <td>AMUDAT</td>\n",
              "        <td>3546469.3324990002</td>\n",
              "    </tr>\n",
              "    <tr>\n",
              "        <td>KAABONG</td>\n",
              "        <td>6990361.6143000005</td>\n",
              "    </tr>\n",
              "    <tr>\n",
              "        <td>KOTIDO</td>\n",
              "        <td>2010179.0731479998</td>\n",
              "    </tr>\n",
              "    <tr>\n",
              "        <td>MOROTO</td>\n",
              "        <td>422116.06882464996</td>\n",
              "    </tr>\n",
              "    <tr>\n",
              "        <td>NAKAPIRIPIRIT</td>\n",
              "        <td>8125156.24546</td>\n",
              "    </tr>\n",
              "    <tr>\n",
              "        <td>NAPAK</td>\n",
              "        <td>5587379.38888</td>\n",
              "    </tr>\n",
              "</table>"
            ],
            "text/plain": [
              "[('ABIM', 1922133.1297),\n",
              " ('AMUDAT', 3546469.3324990002),\n",
              " ('KAABONG', 6990361.6143000005),\n",
              " ('KOTIDO', 2010179.0731479998),\n",
              " ('MOROTO', 422116.06882464996),\n",
              " ('NAKAPIRIPIRIT', 8125156.24546),\n",
              " ('NAPAK', 5587379.38888)]"
            ]
          },
          "metadata": {
            "tags": []
          },
          "execution_count": 16
        }
      ]
    },
    {
      "cell_type": "markdown",
      "metadata": {
        "id": "zY5zPMJvTlg9",
        "colab_type": "text"
      },
      "source": [
        "# 6.Compute the overall Crop area in all Sub counties where population is over 20000.\n"
      ]
    },
    {
      "cell_type": "code",
      "metadata": {
        "id": "v55nvw4_TsG3",
        "colab_type": "code",
        "outputId": "6f84430a-76f7-4464-d5f2-65836638dbe1",
        "colab": {
          "base_uri": "https://localhost:8080/",
          "height": 95
        }
      },
      "source": [
        "# Compute the overall Crop area in all Sub counties where population is over 20000.\n",
        "%%sql\n",
        "SELECT SUM(Crop_Area_Ha) AS 'Overall crop area' From Dalberg\n",
        "WHERE POP > 20000\n"
      ],
      "execution_count": 0,
      "outputs": [
        {
          "output_type": "stream",
          "text": [
            " * sqlite://\n",
            "Done.\n"
          ],
          "name": "stdout"
        },
        {
          "output_type": "execute_result",
          "data": {
            "text/html": [
              "<table>\n",
              "    <tr>\n",
              "        <th>Overall crop area</th>\n",
              "    </tr>\n",
              "    <tr>\n",
              "        <td>120212.89015529997</td>\n",
              "    </tr>\n",
              "</table>"
            ],
            "text/plain": [
              "[(120212.89015529997,)]"
            ]
          },
          "metadata": {
            "tags": []
          },
          "execution_count": 17
        }
      ]
    },
    {
      "cell_type": "markdown",
      "metadata": {
        "id": "hiOxw5SjTyGU",
        "colab_type": "text"
      },
      "source": [
        "# 7.Sort the Maize production in descending order by Districts, only taking into account Sub counties where Maize area is larger than Sorghum area, and display the number of Sub counties per district matching that criteria.\n"
      ]
    },
    {
      "cell_type": "code",
      "metadata": {
        "id": "shjatUR6T4Tg",
        "colab_type": "code",
        "outputId": "6c2663ef-d0a8-435b-bb89-721b454bcb5d",
        "colab": {
          "base_uri": "https://localhost:8080/",
          "height": 326
        }
      },
      "source": [
        "# Sort the Maize production in descending order by Districts\n",
        "# only taking into account Sub counties where Maize area is larger than Sorghum area\n",
        "# display the number of Sub counties per district matching that criteria.\n",
        "%%sql\n",
        "SELECT SUBCOUNTY_NAME AS 'Sub-County Name' From Dalberg\n",
        "WHERE M_Area_Ha > S_Area_Ha\n",
        "GROUP BY SUBCOUNTY_NAME\n",
        "ORDER BY DISTRICT_NAME DESC;"
      ],
      "execution_count": 0,
      "outputs": [
        {
          "output_type": "stream",
          "text": [
            " * sqlite://\n",
            "Done.\n"
          ],
          "name": "stdout"
        },
        {
          "output_type": "execute_result",
          "data": {
            "text/html": [
              "<table>\n",
              "    <tr>\n",
              "        <th>Sub-County Name</th>\n",
              "    </tr>\n",
              "    <tr>\n",
              "        <td>IRIIRI</td>\n",
              "    </tr>\n",
              "    <tr>\n",
              "        <td>NAPAK TOWN COUNCIL</td>\n",
              "    </tr>\n",
              "    <tr>\n",
              "        <td>MORUITA</td>\n",
              "    </tr>\n",
              "    <tr>\n",
              "        <td>NAKAPIRIPIRIT TOWN COUNCIL</td>\n",
              "    </tr>\n",
              "    <tr>\n",
              "        <td>NAMALU</td>\n",
              "    </tr>\n",
              "    <tr>\n",
              "        <td>KATIKEKILE</td>\n",
              "    </tr>\n",
              "    <tr>\n",
              "        <td>NORTHERN DIVISION</td>\n",
              "    </tr>\n",
              "    <tr>\n",
              "        <td>TAPAC</td>\n",
              "    </tr>\n",
              "    <tr>\n",
              "        <td>KAMION</td>\n",
              "    </tr>\n",
              "    <tr>\n",
              "        <td>LOBALANGIT</td>\n",
              "    </tr>\n",
              "    <tr>\n",
              "        <td>NAPORE (KARENGA)</td>\n",
              "    </tr>\n",
              "    <tr>\n",
              "        <td>AMUDAT</td>\n",
              "    </tr>\n",
              "</table>"
            ],
            "text/plain": [
              "[('IRIIRI',),\n",
              " ('NAPAK TOWN COUNCIL',),\n",
              " ('MORUITA',),\n",
              " ('NAKAPIRIPIRIT TOWN COUNCIL',),\n",
              " ('NAMALU',),\n",
              " ('KATIKEKILE',),\n",
              " ('NORTHERN DIVISION',),\n",
              " ('TAPAC',),\n",
              " ('KAMION',),\n",
              " ('LOBALANGIT',),\n",
              " ('NAPORE (KARENGA)',),\n",
              " ('AMUDAT',)]"
            ]
          },
          "metadata": {
            "tags": []
          },
          "execution_count": 7
        }
      ]
    }
  ]
}